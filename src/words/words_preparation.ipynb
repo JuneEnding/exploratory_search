{
 "cells": [
  {
   "cell_type": "code",
   "execution_count": 1,
   "id": "c7232ad5-1a7a-4e99-8ab2-e8f43d9ddd4f",
   "metadata": {},
   "outputs": [],
   "source": [
    "import os\n",
    "import pandas as pd"
   ]
  },
  {
   "cell_type": "code",
   "execution_count": 4,
   "id": "a4b6deba-7a04-4a56-a5cb-23226371fefe",
   "metadata": {},
   "outputs": [
    {
     "name": "stdout",
     "output_type": "stream",
     "text": [
      "Тип данных: <class 'str'>\n",
      "Первые 1998 символов: VoenObozren2016_2019_1_0367.t # в ## в ### 00000085 #### 00019397 ##### F\n",
      "VoenObozren2016_2019_1_0366.t # в ## в ### 00000023 #### 00019397 ##### F\n",
      "VoenObozren2016_2019_1_0365.t # в ## в ### 00000051 #### 00019397 ##### F\n",
      "VoenObozren2016_2019_1_0364.t # в ## в ### 00000059 #### 00019397 ##### F\n",
      "VoenObozren2016_2019_1_0363.t # в ## в ### 00000043 #### 00019397 ##### F\n",
      "VoenObozren2016_2019_1_0362.t # в ## в ### 00000057 #### 00019397 ##### F\n",
      "VoenObozren2016_2019_1_0361.t # в ## в ### 00000027 #### 00019397 ##### F\n",
      "VoenObozren2016_2019_1_0360.t # в ## в ### 00000103 #### 00019397 ##### F\n",
      "VoenObozren2016_2019_1_0359.t # в ## в ### 00000085 #### 00019397 ##### F\n",
      "VoenObozren2016_2019_1_0358.t # в ## в ### 00000069 #### 00019397 ##### F\n",
      "VoenObozren2016_2019_1_0357.t # в ## в ### 00000066 #### 00019397 ##### F\n",
      "VoenObozren2016_2019_1_0356.t # в ## в ### 00000082 #### 00019397 ##### F\n",
      "VoenObozren2016_2019_1_0355.t # в ## в ### 00000061 #### 00019397 ##### F\n",
      "VoenObozren2016_2019_1_0354.t # в ## в ### 00000064 #### 00019397 ##### F\n",
      "VoenObozren2016_2019_1_0353.t # в ## в ### 00000097 #### 00019397 ##### F\n",
      "VoenObozren2016_2019_1_0352.t # в ## в ### 00000111 #### 00019397 ##### F\n",
      "VoenObozren2016_2019_1_0351.t # в ## в ### 00000052 #### 00019397 ##### F\n",
      "VoenObozren2016_2019_1_0350.t # в ## в ### 00000045 #### 00019397 ##### F\n",
      "VoenObozren2016_2019_1_0349.t # в ## в ### 00000066 #### 00019397 ##### F\n",
      "VoenObozren2016_2019_1_0348.t # в ## в ### 00000038 #### 00019397 ##### F\n",
      "VoenObozren2016_2019_1_0347.t # в ## в ### 00000047 #### 00019397 ##### F\n",
      "VoenObozren2016_2019_1_0346.t # в ## в ### 00000059 #### 00019397 ##### F\n",
      "VoenObozren2016_2019_1_0345.t # в ## в ### 00000035 #### 00019397 ##### F\n",
      "VoenObozren2016_2019_1_0344.t # в ## в ### 00000020 #### 00019397 ##### F\n",
      "VoenObozren2016_2019_1_0343.t # в ## в ### 00000049 #### 00019397 ##### F\n",
      "VoenObozren2016_2019_1_0342.t # в ## в ### 00000023 #### 00019397 ##### F\n",
      "VoenObozren2016_2019_1_0341.t # в ## в ### 00000048 #### 00019397 ##### F\n",
      "\n"
     ]
    }
   ],
   "source": [
    "dir_path = os.getcwd()\n",
    "file_path = os.path.join(dir_path, '..\\\\..\\\\data\\\\words\\\\raw_words_from_the_supervisor.txt')\n",
    "\n",
    "with open(file_path, 'r', encoding='windows-1251') as f:\n",
    "    data = f.read()\n",
    "\n",
    "print(\"Тип данных:\", type(data))\n",
    "print(\"Первые 1998 символов:\", data[:1998])\n",
    "\n",
    "lines = data.strip().split(\"\\n\")\n",
    "parsed_data = []\n",
    "for line in lines:\n",
    "    parts = line.split(\" \")\n",
    "    document_name = parts[0]\n",
    "    word = parts[2]\n",
    "    normalized_word = parts[4]\n",
    "    freq_text = parts[6]\n",
    "    freq_corpus = parts[8]\n",
    "    pos = parts[10]\n",
    "    parsed_data.append({\n",
    "        \"DocumentName\": document_name,\n",
    "        \"Word\": word,\n",
    "        \"NormalizedWord\": normalized_word,\n",
    "        \"FrequencyInText\": freq_text,\n",
    "        \"FrequencyInCorpus\": freq_corpus,\n",
    "        \"PartOfSpeech\": pos\n",
    "    })\n",
    "\n",
    "df = pd.DataFrame(parsed_data)\n",
    "df.to_csv(\" \", index=False, encoding='windows-1251')"
   ]
  },
  {
   "cell_type": "code",
   "execution_count": null,
   "id": "5c35aac0-32e3-487d-be36-66d65f8d252c",
   "metadata": {},
   "outputs": [],
   "source": []
  }
 ],
 "metadata": {
  "kernelspec": {
   "display_name": "Python 3 (ipykernel)",
   "language": "python",
   "name": "python3"
  },
  "language_info": {
   "codemirror_mode": {
    "name": "ipython",
    "version": 3
   },
   "file_extension": ".py",
   "mimetype": "text/x-python",
   "name": "python",
   "nbconvert_exporter": "python",
   "pygments_lexer": "ipython3",
   "version": "3.12.6"
  }
 },
 "nbformat": 4,
 "nbformat_minor": 5
}
