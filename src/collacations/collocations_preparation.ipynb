{
 "cells": [
  {
   "cell_type": "code",
   "execution_count": 1,
   "id": "8486dcd6-fae9-48db-b2b1-4e34c8da8e64",
   "metadata": {},
   "outputs": [],
   "source": [
    "import csv"
   ]
  },
  {
   "cell_type": "code",
   "execution_count": 2,
   "id": "44588bba-d494-43ae-a159-952c22d36d64",
   "metadata": {},
   "outputs": [
    {
     "name": "stdout",
     "output_type": "stream",
     "text": [
      "Готово! Результат сохранён в '..\\..\\data\\collocations\\processed_collocations_set_from_the_supervisor.csv'.\n"
     ]
    }
   ],
   "source": [
    "input_path = r\"..\\..\\data\\collocations\\raw_collocations_from_the_supervisor.txt\"\n",
    "output_path = r\"..\\..\\data\\collocations\\processed_collocations_set_from_the_supervisor.csv\"\n",
    "\n",
    "def process_collocations(input_file, output_file):\n",
    "    rows = []\n",
    "\n",
    "    with open(input_file, \"r\", encoding=\"cp866\") as f:\n",
    "        for line in f:\n",
    "            line = line.strip()\n",
    "            if not line:\n",
    "                continue\n",
    "\n",
    "            if '###' not in line:\n",
    "                continue\n",
    "            \n",
    "            doc_part, coll_part = line.split('###', 1)\n",
    "            doc_part = doc_part.strip()\n",
    "            coll_part = coll_part.strip()\n",
    "\n",
    "            if '#' not in coll_part:\n",
    "                continue\n",
    "\n",
    "            coll_and_freq = coll_part.split('#')\n",
    "            coll_text = coll_and_freq[0].strip()\n",
    "            freq = coll_and_freq[1].strip()\n",
    "\n",
    "            if '/' not in coll_text:\n",
    "                continue\n",
    "\n",
    "            original, normalized = coll_text.split('/', 1)\n",
    "            original = original.strip()\n",
    "            normalized = normalized.strip()\n",
    "\n",
    "            rows.append((doc_part, original, normalized, freq))\n",
    "\n",
    "    with open(output_file, \"w\", encoding=\"utf-8\", newline=\"\") as csvfile:\n",
    "        writer = csv.writer(csvfile, delimiter=\",\", quotechar='\"', quoting=csv.QUOTE_MINIMAL)\n",
    "        writer.writerow([\"DocumentName\", \"OriginalCollocation\", \"NormalizedCollocation\", \"Frequency\"])\n",
    "        for row in rows:\n",
    "            writer.writerow(row)\n",
    "\n",
    "if __name__ == \"__main__\":\n",
    "    process_collocations(input_path, output_path)\n",
    "    print(f\"Готово! Результат сохранён в '{output_path}'.\")"
   ]
  },
  {
   "cell_type": "code",
   "execution_count": null,
   "id": "173edd88-8143-4b9d-acc7-5615589eb272",
   "metadata": {},
   "outputs": [],
   "source": []
  }
 ],
 "metadata": {
  "kernelspec": {
   "display_name": "Python 3 (ipykernel)",
   "language": "python",
   "name": "python3"
  },
  "language_info": {
   "codemirror_mode": {
    "name": "ipython",
    "version": 3
   },
   "file_extension": ".py",
   "mimetype": "text/x-python",
   "name": "python",
   "nbconvert_exporter": "python",
   "pygments_lexer": "ipython3",
   "version": "3.12.6"
  }
 },
 "nbformat": 4,
 "nbformat_minor": 5
}
