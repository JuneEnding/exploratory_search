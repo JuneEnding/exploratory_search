{
 "cells": [
  {
   "cell_type": "code",
   "execution_count": 1,
   "id": "250faed7-5b34-43ff-b632-8fc02559f686",
   "metadata": {},
   "outputs": [],
   "source": [
    "import pandas as pd\n",
    "import numpy as np\n",
    "from sklearn.feature_extraction.text import TfidfTransformer\n",
    "from sklearn.metrics.pairwise import cosine_similarity\n",
    "from sklearn.cluster import KMeans, DBSCAN, AgglomerativeClustering\n",
    "from sklearn.manifold import TSNE\n",
    "from scipy.spatial.distance import cdist\n",
    "import matplotlib.pyplot as plt\n",
    "from matplotlib.colors import ListedColormap\n",
    "from wordcloud import WordCloud\n",
    "from sklearn.metrics import silhouette_score"
   ]
  },
  {
   "cell_type": "code",
   "execution_count": 3,
   "id": "500e05b0-63d6-46f5-b2b9-d555fef88808",
   "metadata": {},
   "outputs": [
    {
     "ename": "EmptyDataError",
     "evalue": "No columns to parse from file",
     "output_type": "error",
     "traceback": [
      "\u001b[1;31m---------------------------------------------------------------------------\u001b[0m",
      "\u001b[1;31mEmptyDataError\u001b[0m                            Traceback (most recent call last)",
      "Cell \u001b[1;32mIn[3], line 1\u001b[0m\n\u001b[1;32m----> 1\u001b[0m df \u001b[38;5;241m=\u001b[39m \u001b[43mpd\u001b[49m\u001b[38;5;241;43m.\u001b[39;49m\u001b[43mread_csv\u001b[49m\u001b[43m(\u001b[49m\u001b[38;5;124;43m\"\u001b[39;49m\u001b[38;5;124;43m..\u001b[39;49m\u001b[38;5;130;43;01m\\\\\u001b[39;49;00m\u001b[38;5;124;43m..\u001b[39;49m\u001b[38;5;130;43;01m\\\\\u001b[39;49;00m\u001b[38;5;124;43mdata\u001b[39;49m\u001b[38;5;130;43;01m\\\\\u001b[39;49;00m\u001b[38;5;124;43mcollocations\u001b[39;49m\u001b[38;5;130;43;01m\\\\\u001b[39;49;00m\u001b[38;5;124;43mprocessed_collocations_set_from_the_supervisor.csv\u001b[39;49m\u001b[38;5;124;43m\"\u001b[39;49m\u001b[43m,\u001b[49m\u001b[43m \u001b[49m\u001b[43mencoding\u001b[49m\u001b[38;5;241;43m=\u001b[39;49m\u001b[38;5;124;43m'\u001b[39;49m\u001b[38;5;124;43mwindows-1251\u001b[39;49m\u001b[38;5;124;43m'\u001b[39;49m\u001b[43m)\u001b[49m\n\u001b[0;32m      2\u001b[0m df\n",
      "File \u001b[1;32m~\\AppData\\Local\\Programs\\Python\\Python312\\Lib\\site-packages\\pandas\\io\\parsers\\readers.py:1026\u001b[0m, in \u001b[0;36mread_csv\u001b[1;34m(filepath_or_buffer, sep, delimiter, header, names, index_col, usecols, dtype, engine, converters, true_values, false_values, skipinitialspace, skiprows, skipfooter, nrows, na_values, keep_default_na, na_filter, verbose, skip_blank_lines, parse_dates, infer_datetime_format, keep_date_col, date_parser, date_format, dayfirst, cache_dates, iterator, chunksize, compression, thousands, decimal, lineterminator, quotechar, quoting, doublequote, escapechar, comment, encoding, encoding_errors, dialect, on_bad_lines, delim_whitespace, low_memory, memory_map, float_precision, storage_options, dtype_backend)\u001b[0m\n\u001b[0;32m   1013\u001b[0m kwds_defaults \u001b[38;5;241m=\u001b[39m _refine_defaults_read(\n\u001b[0;32m   1014\u001b[0m     dialect,\n\u001b[0;32m   1015\u001b[0m     delimiter,\n\u001b[1;32m   (...)\u001b[0m\n\u001b[0;32m   1022\u001b[0m     dtype_backend\u001b[38;5;241m=\u001b[39mdtype_backend,\n\u001b[0;32m   1023\u001b[0m )\n\u001b[0;32m   1024\u001b[0m kwds\u001b[38;5;241m.\u001b[39mupdate(kwds_defaults)\n\u001b[1;32m-> 1026\u001b[0m \u001b[38;5;28;01mreturn\u001b[39;00m \u001b[43m_read\u001b[49m\u001b[43m(\u001b[49m\u001b[43mfilepath_or_buffer\u001b[49m\u001b[43m,\u001b[49m\u001b[43m \u001b[49m\u001b[43mkwds\u001b[49m\u001b[43m)\u001b[49m\n",
      "File \u001b[1;32m~\\AppData\\Local\\Programs\\Python\\Python312\\Lib\\site-packages\\pandas\\io\\parsers\\readers.py:620\u001b[0m, in \u001b[0;36m_read\u001b[1;34m(filepath_or_buffer, kwds)\u001b[0m\n\u001b[0;32m    617\u001b[0m _validate_names(kwds\u001b[38;5;241m.\u001b[39mget(\u001b[38;5;124m\"\u001b[39m\u001b[38;5;124mnames\u001b[39m\u001b[38;5;124m\"\u001b[39m, \u001b[38;5;28;01mNone\u001b[39;00m))\n\u001b[0;32m    619\u001b[0m \u001b[38;5;66;03m# Create the parser.\u001b[39;00m\n\u001b[1;32m--> 620\u001b[0m parser \u001b[38;5;241m=\u001b[39m \u001b[43mTextFileReader\u001b[49m\u001b[43m(\u001b[49m\u001b[43mfilepath_or_buffer\u001b[49m\u001b[43m,\u001b[49m\u001b[43m \u001b[49m\u001b[38;5;241;43m*\u001b[39;49m\u001b[38;5;241;43m*\u001b[39;49m\u001b[43mkwds\u001b[49m\u001b[43m)\u001b[49m\n\u001b[0;32m    622\u001b[0m \u001b[38;5;28;01mif\u001b[39;00m chunksize \u001b[38;5;129;01mor\u001b[39;00m iterator:\n\u001b[0;32m    623\u001b[0m     \u001b[38;5;28;01mreturn\u001b[39;00m parser\n",
      "File \u001b[1;32m~\\AppData\\Local\\Programs\\Python\\Python312\\Lib\\site-packages\\pandas\\io\\parsers\\readers.py:1620\u001b[0m, in \u001b[0;36mTextFileReader.__init__\u001b[1;34m(self, f, engine, **kwds)\u001b[0m\n\u001b[0;32m   1617\u001b[0m     \u001b[38;5;28mself\u001b[39m\u001b[38;5;241m.\u001b[39moptions[\u001b[38;5;124m\"\u001b[39m\u001b[38;5;124mhas_index_names\u001b[39m\u001b[38;5;124m\"\u001b[39m] \u001b[38;5;241m=\u001b[39m kwds[\u001b[38;5;124m\"\u001b[39m\u001b[38;5;124mhas_index_names\u001b[39m\u001b[38;5;124m\"\u001b[39m]\n\u001b[0;32m   1619\u001b[0m \u001b[38;5;28mself\u001b[39m\u001b[38;5;241m.\u001b[39mhandles: IOHandles \u001b[38;5;241m|\u001b[39m \u001b[38;5;28;01mNone\u001b[39;00m \u001b[38;5;241m=\u001b[39m \u001b[38;5;28;01mNone\u001b[39;00m\n\u001b[1;32m-> 1620\u001b[0m \u001b[38;5;28mself\u001b[39m\u001b[38;5;241m.\u001b[39m_engine \u001b[38;5;241m=\u001b[39m \u001b[38;5;28;43mself\u001b[39;49m\u001b[38;5;241;43m.\u001b[39;49m\u001b[43m_make_engine\u001b[49m\u001b[43m(\u001b[49m\u001b[43mf\u001b[49m\u001b[43m,\u001b[49m\u001b[43m \u001b[49m\u001b[38;5;28;43mself\u001b[39;49m\u001b[38;5;241;43m.\u001b[39;49m\u001b[43mengine\u001b[49m\u001b[43m)\u001b[49m\n",
      "File \u001b[1;32m~\\AppData\\Local\\Programs\\Python\\Python312\\Lib\\site-packages\\pandas\\io\\parsers\\readers.py:1898\u001b[0m, in \u001b[0;36mTextFileReader._make_engine\u001b[1;34m(self, f, engine)\u001b[0m\n\u001b[0;32m   1895\u001b[0m     \u001b[38;5;28;01mraise\u001b[39;00m \u001b[38;5;167;01mValueError\u001b[39;00m(msg)\n\u001b[0;32m   1897\u001b[0m \u001b[38;5;28;01mtry\u001b[39;00m:\n\u001b[1;32m-> 1898\u001b[0m     \u001b[38;5;28;01mreturn\u001b[39;00m \u001b[43mmapping\u001b[49m\u001b[43m[\u001b[49m\u001b[43mengine\u001b[49m\u001b[43m]\u001b[49m\u001b[43m(\u001b[49m\u001b[43mf\u001b[49m\u001b[43m,\u001b[49m\u001b[43m \u001b[49m\u001b[38;5;241;43m*\u001b[39;49m\u001b[38;5;241;43m*\u001b[39;49m\u001b[38;5;28;43mself\u001b[39;49m\u001b[38;5;241;43m.\u001b[39;49m\u001b[43moptions\u001b[49m\u001b[43m)\u001b[49m\n\u001b[0;32m   1899\u001b[0m \u001b[38;5;28;01mexcept\u001b[39;00m \u001b[38;5;167;01mException\u001b[39;00m:\n\u001b[0;32m   1900\u001b[0m     \u001b[38;5;28;01mif\u001b[39;00m \u001b[38;5;28mself\u001b[39m\u001b[38;5;241m.\u001b[39mhandles \u001b[38;5;129;01mis\u001b[39;00m \u001b[38;5;129;01mnot\u001b[39;00m \u001b[38;5;28;01mNone\u001b[39;00m:\n",
      "File \u001b[1;32m~\\AppData\\Local\\Programs\\Python\\Python312\\Lib\\site-packages\\pandas\\io\\parsers\\c_parser_wrapper.py:93\u001b[0m, in \u001b[0;36mCParserWrapper.__init__\u001b[1;34m(self, src, **kwds)\u001b[0m\n\u001b[0;32m     90\u001b[0m \u001b[38;5;28;01mif\u001b[39;00m kwds[\u001b[38;5;124m\"\u001b[39m\u001b[38;5;124mdtype_backend\u001b[39m\u001b[38;5;124m\"\u001b[39m] \u001b[38;5;241m==\u001b[39m \u001b[38;5;124m\"\u001b[39m\u001b[38;5;124mpyarrow\u001b[39m\u001b[38;5;124m\"\u001b[39m:\n\u001b[0;32m     91\u001b[0m     \u001b[38;5;66;03m# Fail here loudly instead of in cython after reading\u001b[39;00m\n\u001b[0;32m     92\u001b[0m     import_optional_dependency(\u001b[38;5;124m\"\u001b[39m\u001b[38;5;124mpyarrow\u001b[39m\u001b[38;5;124m\"\u001b[39m)\n\u001b[1;32m---> 93\u001b[0m \u001b[38;5;28mself\u001b[39m\u001b[38;5;241m.\u001b[39m_reader \u001b[38;5;241m=\u001b[39m \u001b[43mparsers\u001b[49m\u001b[38;5;241;43m.\u001b[39;49m\u001b[43mTextReader\u001b[49m\u001b[43m(\u001b[49m\u001b[43msrc\u001b[49m\u001b[43m,\u001b[49m\u001b[43m \u001b[49m\u001b[38;5;241;43m*\u001b[39;49m\u001b[38;5;241;43m*\u001b[39;49m\u001b[43mkwds\u001b[49m\u001b[43m)\u001b[49m\n\u001b[0;32m     95\u001b[0m \u001b[38;5;28mself\u001b[39m\u001b[38;5;241m.\u001b[39munnamed_cols \u001b[38;5;241m=\u001b[39m \u001b[38;5;28mself\u001b[39m\u001b[38;5;241m.\u001b[39m_reader\u001b[38;5;241m.\u001b[39munnamed_cols\n\u001b[0;32m     97\u001b[0m \u001b[38;5;66;03m# error: Cannot determine type of 'names'\u001b[39;00m\n",
      "File \u001b[1;32mparsers.pyx:581\u001b[0m, in \u001b[0;36mpandas._libs.parsers.TextReader.__cinit__\u001b[1;34m()\u001b[0m\n",
      "\u001b[1;31mEmptyDataError\u001b[0m: No columns to parse from file"
     ]
    }
   ],
   "source": [
    "df = pd.read_csv(\"..\\\\..\\\\data\\\\collocations\\\\processed_collocations_set_from_the_supervisor.csv\", encoding='windows-1251')\n",
    "df"
   ]
  },
  {
   "cell_type": "code",
   "execution_count": null,
   "id": "7c6fa52f-a1d4-4571-9485-cd9aeebcb75c",
   "metadata": {},
   "outputs": [],
   "source": [
    "meaningless_pos = {'0', '&', 'F', 'e', 's', 'm', 'M', 'Y', 'n'}\n",
    "df = df[~df['PartOfSpeech'].isin(meaningless_pos)]\n",
    "df"
   ]
  },
  {
   "cell_type": "code",
   "execution_count": null,
   "id": "83bbbe3a-0562-45e3-8b4e-54ce9fc5091e",
   "metadata": {},
   "outputs": [],
   "source": [
    "meaningless_words = {\n",
    "    'быть', 'был', 'есть', 'будет', 'может', 'мочь', 'являться',\n",
    "    'имеющий', 'имеющая', 'имеющее', 'имеющие',\n",
    "    'идущий', 'идущая', 'идущие', 'идущего',\n",
    "    'он', 'я', 'сам', 'сама', 'само', 'сами', 'тот', 'та', 'то', 'те',\n",
    "    'такой', 'такая', 'такое', 'такие', 'данный', 'данная', 'данное', 'данные',\n",
    "    'чего', 'почему', 'зачем', 'где', 'когда', 'пока',\n",
    "    'уже', 'еще', 'сейчас', 'теперь', 'тогда',\n",
    "    'должен', 'должна', 'должно', 'должны',\n",
    "    'человек', 'люди', 'раз', 'мир', 'время', 'год',\n",
    "    'прошлый', 'следующий', 'новый', 'старый', 'большой', 'маленький',\n",
    "    'который', 'которая', 'которое', 'которые',\n",
    "    'поэтому'\n",
    "}\n",
    "df = df[~df['NormalizedWord'].isin(meaningless_words)]\n",
    "df"
   ]
  },
  {
   "cell_type": "code",
   "execution_count": null,
   "id": "0f338093-83bd-41f1-a997-09b56c0854bf",
   "metadata": {},
   "outputs": [],
   "source": [
    "df = df.copy()\n",
    "df['FrequencyInText'] = df['FrequencyInText'].astype(int)\n",
    "df['FrequencyInCorpus'] = df['FrequencyInCorpus'].astype(int)\n",
    "\n",
    "filtered_df = df[(df['FrequencyInCorpus'] > 1) & (df['FrequencyInText'] > 1)]\n",
    "doc_word_matrix = filtered_df.pivot_table(\n",
    "    index='DocumentName',\n",
    "    columns='NormalizedWord',\n",
    "    values='FrequencyInText',\n",
    "    aggfunc='sum',\n",
    "    fill_value=0\n",
    ")\n",
    "\n",
    "filtered_df"
   ]
  },
  {
   "cell_type": "code",
   "execution_count": null,
   "id": "8a90244d-6114-46f0-b7a6-d18f043604f7",
   "metadata": {},
   "outputs": [],
   "source": [
    "doc_word_matrix.head(25)"
   ]
  },
  {
   "cell_type": "code",
   "execution_count": null,
   "id": "bc8b6060-42f7-4a85-8bd3-6c14a8159e39",
   "metadata": {},
   "outputs": [],
   "source": [
    "transformer = TfidfTransformer()\n",
    "tfidf_matrix = transformer.fit_transform(doc_word_matrix)\n",
    "similarity_matrix = cosine_similarity(tfidf_matrix)\n",
    "similarity_df = pd.DataFrame(similarity_matrix, index=doc_word_matrix.index, columns=doc_word_matrix.index)\n",
    "similarity_df.to_csv(\"data\\\\collocations\\\\cosine_similarity_matrix.csv\", index=True)\n",
    "similarity_df"
   ]
  },
  {
   "cell_type": "code",
   "execution_count": null,
   "id": "763ca0cc-e84e-43f4-8507-4257bd15bef6",
   "metadata": {},
   "outputs": [],
   "source": [
    "def save_clusters(labels, method_name):\n",
    "    cluster_df = pd.DataFrame({\"Document\": doc_word_matrix.index, \"Cluster\": labels})\n",
    "    cluster_df.to_csv(f\"data\\\\collocations\\\\{method_name}_clusters.csv\", index=False)\n",
    "\n",
    "def save_cluster_centers(tfidf_matrix, labels, method_name):\n",
    "    unique_clusters = np.unique(labels)\n",
    "    cluster_centers = []\n",
    "\n",
    "    for cluster in unique_clusters:\n",
    "        if cluster == -1:\n",
    "            continue\n",
    "        cluster_indices = np.where(labels == cluster)[0]\n",
    "        cluster_vectors = tfidf_matrix[cluster_indices].toarray()\n",
    "        center_idx = np.argmin(cdist([cluster_vectors.mean(axis=0)], cluster_vectors)[0])\n",
    "        central_file = doc_word_matrix.index[cluster_indices[center_idx]]\n",
    "        cluster_centers.append((cluster, central_file))\n",
    "\n",
    "    centers_df = pd.DataFrame(cluster_centers, columns=[\"Cluster\", \"Central_File\"])\n",
    "    centers_df.to_csv(f\"data\\\\collocations\\\\{method_name}_cluster_centers.csv\", index=False)"
   ]
  },
  {
   "cell_type": "code",
   "execution_count": null,
   "id": "649b858d-b912-41f8-a505-049e0d1c435b",
   "metadata": {},
   "outputs": [],
   "source": [
    "k = 30\n",
    "kmeans = KMeans(n_clusters=k, random_state=42)\n",
    "kmeans_labels = kmeans.fit_predict(tfidf_matrix)\n",
    "save_clusters(kmeans_labels, \"kmeans\")\n",
    "save_cluster_centers(tfidf_matrix, kmeans_labels, \"kmeans\")"
   ]
  },
  {
   "cell_type": "code",
   "execution_count": null,
   "id": "4b04591b-e627-4440-be14-5a13ae74456e",
   "metadata": {},
   "outputs": [],
   "source": [
    "eps = 0.6\n",
    "min_samples = 5\n",
    "dbscan = DBSCAN(eps=eps, min_samples=min_samples, metric=\"cosine\")\n",
    "dbscan_labels = dbscan.fit_predict(tfidf_matrix)\n",
    "save_clusters(dbscan_labels, \"dbscan\")\n",
    "save_cluster_centers(tfidf_matrix, dbscan_labels, \"dbscan\")"
   ]
  },
  {
   "cell_type": "code",
   "execution_count": null,
   "id": "e82ab2cf-3171-4eb0-80ac-4418fa37add4",
   "metadata": {},
   "outputs": [],
   "source": [
    "n_clusters_agglo = 35\n",
    "agglo = AgglomerativeClustering(n_clusters=n_clusters_agglo, metric=\"cosine\", linkage=\"average\")\n",
    "agglo_labels = agglo.fit_predict(tfidf_matrix.toarray())\n",
    "save_clusters(agglo_labels, \"agglomerative\")\n",
    "save_cluster_centers(tfidf_matrix, agglo_labels, \"agglomerative\")"
   ]
  },
  {
   "cell_type": "code",
   "execution_count": null,
   "id": "a3b2ff33-96c6-4603-9ba7-86f227d80272",
   "metadata": {},
   "outputs": [],
   "source": [
    "def load_clusters(file_name):\n",
    "    return pd.read_csv(file_name)"
   ]
  },
  {
   "cell_type": "code",
   "execution_count": null,
   "id": "ef19b2f5-8d26-492c-a7c4-dc65113ef769",
   "metadata": {},
   "outputs": [],
   "source": [
    "kmeans_clusters = load_clusters(\"data\\\\collocations\\\\kmeans_clusters.csv\")\n",
    "dbscan_clusters = load_clusters(\"data\\\\collocations\\\\dbscan_clusters.csv\")\n",
    "agglo_clusters = load_clusters(\"data\\\\collocations\\\\agglomerative_clusters.csv\")\n",
    "\n",
    "kmeans_cluster_centers = load_clusters(\"data\\\\collocations\\\\kmeans_cluster_centers.csv\")\n",
    "dbscan_cluster_centers = load_clusters(\"data\\\\collocations\\\\dbscan_cluster_centers.csv\")\n",
    "agglo_cluster_centers = load_clusters(\"data\\\\collocations\\\\agglomerative_cluster_centers.csv\")"
   ]
  },
  {
   "cell_type": "code",
   "execution_count": null,
   "id": "926b5ef3-b62f-4ee0-9221-a366ecbad329",
   "metadata": {},
   "outputs": [],
   "source": [
    "def visualize_clusters(labels, tfidf_matrix, method_name):\n",
    "    tsne = TSNE(n_components=2, random_state=42, perplexity=30, n_iter=1000, metric='cosine')\n",
    "    tsne_res = tsne.fit_transform(tfidf_matrix.toarray())\n",
    "\n",
    "    unique_labels = np.unique(labels)\n",
    "    cmap = ListedColormap(plt.cm.get_cmap('tab20', len(unique_labels)).colors)\n",
    "\n",
    "    plt.figure(figsize=(12, 8))\n",
    "    scatter = plt.scatter(tsne_res[:, 0], tsne_res[:, 1], c=labels, cmap=cmap, s=10, alpha=0.9)\n",
    "    plt.colorbar(scatter, label=f'{method_name} Cluster', ticks=range(len(unique_labels)))\n",
    "    plt.title(f't-SNE визуализация кластеров {method_name}')\n",
    "    plt.xlabel('t-SNE измерение 1')\n",
    "    plt.ylabel('t-SNE измерение 2')\n",
    "    plt.grid(True)\n",
    "    plt.show()\n",
    "\n",
    "    unique_clusters, counts = np.unique(labels, return_counts=True)\n",
    "    print(f\"{method_name} кластеры:\", dict(zip(unique_clusters, counts)))"
   ]
  },
  {
   "cell_type": "code",
   "execution_count": null,
   "id": "1b7ff563-cc66-4ade-8afd-b6450b1e303d",
   "metadata": {},
   "outputs": [],
   "source": [
    "def generate_word_cloud(cluster_label, cluster_df, method_name):\n",
    "    cluster_files = cluster_df[cluster_df['Cluster'] == cluster_label]['Document']\n",
    "    print(f\"Файлы в кластере {cluster_label} ({method_name}):\")\n",
    "    for f in cluster_files:\n",
    "        print(f)\n",
    "\n",
    "    for doc_name in cluster_files:\n",
    "        doc_data = filtered_df[filtered_df['DocumentName'] == doc_name]\n",
    "        word_freq = dict(zip(doc_data['NormalizedWord'], doc_data['FrequencyInText']))\n",
    "        wc = WordCloud(width=800, height=400, background_color='white').generate_from_frequencies(word_freq)\n",
    "        plt.figure(figsize=(10, 5))\n",
    "        plt.imshow(wc, interpolation='bilinear')\n",
    "        plt.axis('off')\n",
    "        plt.title(f'Облако слов для {doc_name}')\n",
    "        plt.show()"
   ]
  },
  {
   "cell_type": "code",
   "execution_count": null,
   "id": "be547541-a91b-4725-bcac-17cbbc35f9f9",
   "metadata": {},
   "outputs": [],
   "source": [
    "transformer = TfidfTransformer()\n",
    "tfidf_matrix = transformer.fit_transform(doc_word_matrix)"
   ]
  },
  {
   "cell_type": "code",
   "execution_count": null,
   "id": "be553bdc-a328-4d1e-96c1-bf37daa4537e",
   "metadata": {},
   "outputs": [],
   "source": [
    "visualize_clusters(kmeans_clusters['Cluster'].values, tfidf_matrix, \"K-Means\")\n",
    "generate_word_cloud(11, kmeans_clusters, \"K-Means\")\n",
    "kmeans_clusters"
   ]
  },
  {
   "cell_type": "code",
   "execution_count": null,
   "id": "9ac6d85d-c479-4b69-93d5-d5e0debe2a9e",
   "metadata": {},
   "outputs": [],
   "source": [
    "kmeans_cluster_centers"
   ]
  },
  {
   "cell_type": "code",
   "execution_count": null,
   "id": "801f2188-daa2-49aa-b62a-5b68ab9d728d",
   "metadata": {},
   "outputs": [],
   "source": [
    "visualize_clusters(dbscan_clusters['Cluster'].values, tfidf_matrix, \"DBSCAN\")\n",
    "generate_word_cloud(8, dbscan_clusters, \"DBSCAN\")\n",
    "dbscan_clusters"
   ]
  },
  {
   "cell_type": "code",
   "execution_count": null,
   "id": "7eac6894-f7ac-4523-a81d-c54451c49885",
   "metadata": {},
   "outputs": [],
   "source": [
    "dbscan_cluster_centers"
   ]
  },
  {
   "cell_type": "code",
   "execution_count": null,
   "id": "ce6e4226-6ab5-4992-bba5-a058ebd28ff8",
   "metadata": {},
   "outputs": [],
   "source": [
    "visualize_clusters(agglo_clusters['Cluster'].values, tfidf_matrix, \"Agglomerative\")\n",
    "generate_word_cloud(11, agglo_clusters, \"Agglomerative\")\n",
    "agglo_clusters"
   ]
  },
  {
   "cell_type": "code",
   "execution_count": null,
   "id": "10fac435-c8bf-40ce-94ff-2dd483f2fa94",
   "metadata": {},
   "outputs": [],
   "source": [
    "agglo_cluster_centers"
   ]
  },
  {
   "cell_type": "code",
   "execution_count": null,
   "id": "37d65be9-1781-4706-b2f9-c140c8f00300",
   "metadata": {},
   "outputs": [],
   "source": [
    "output_path = \"data\\\\collocations\\\\dataprocessed_dataset.csv\"\n",
    "df.to_csv(output_path, index=False, encoding='windows-1251')\n",
    "print(f\"Данные успешно сохранены в {output_path}\")"
   ]
  }
 ],
 "metadata": {
  "kernelspec": {
   "display_name": "Python 3 (ipykernel)",
   "language": "python",
   "name": "python3"
  },
  "language_info": {
   "codemirror_mode": {
    "name": "ipython",
    "version": 3
   },
   "file_extension": ".py",
   "mimetype": "text/x-python",
   "name": "python",
   "nbconvert_exporter": "python",
   "pygments_lexer": "ipython3",
   "version": "3.12.6"
  }
 },
 "nbformat": 4,
 "nbformat_minor": 5
}
